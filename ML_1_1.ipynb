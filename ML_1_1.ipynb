{
 "cells": [
  {
   "cell_type": "markdown",
   "id": "adc3f7df",
   "metadata": {},
   "source": [
    "# 넘파이_ndarray(array(), .shape, ndarray.ndim) "
   ]
  },
  {
   "cell_type": "code",
   "execution_count": 2,
   "id": "3671ffbb",
   "metadata": {},
   "outputs": [],
   "source": [
    "import numpy as np"
   ]
  },
  {
   "cell_type": "markdown",
   "id": "e1aeae0a",
   "metadata": {},
   "source": [
    "array() - 리스트와 같은 다양한 인자 입력받아 ndarray로 변환\n",
    "\n",
    "shape변수 - ndarray의 차원과 크기(행/열)을 튜플 형태로 나타냄"
   ]
  },
  {
   "cell_type": "code",
   "execution_count": 6,
   "id": "a1127ffc",
   "metadata": {},
   "outputs": [
    {
     "name": "stdout",
     "output_type": "stream",
     "text": [
      "array1 type :  <class 'numpy.ndarray'>\n",
      "array1 array 형태 : (3,)\n",
      "array2 type :  <class 'numpy.ndarray'>\n",
      "array2 array 형태 : (2, 3)\n"
     ]
    }
   ],
   "source": [
    "array1 = np.array([1,2,3])\n",
    "print('array1 type : ', type(array1))\n",
    "print('array1 array 형태 :', array1.shape)\n",
    "\n",
    "array2 = np.array([[1,2,3],[2,3,4]])\n",
    "print('array2 type : ', type(array2))\n",
    "print('array2 array 형태 :', array2.shape)"
   ]
  },
  {
   "cell_type": "markdown",
   "id": "f46a2c04",
   "metadata": {},
   "source": [
    "ndarray.ndim - 차원"
   ]
  },
  {
   "cell_type": "code",
   "execution_count": 22,
   "id": "107465a3",
   "metadata": {},
   "outputs": [
    {
     "name": "stdout",
     "output_type": "stream",
     "text": [
      "array1 : 1차원\n",
      "array2 : 2차원\n",
      "array1 : 1차원, array2 :          2차원\n"
     ]
    }
   ],
   "source": [
    "print('array1 : {:0}차원'. format(array1.ndim))\n",
    "print('array2 : {:0}차원'. format(array2.ndim))\n",
    "print('array1 : {:0}차원, array2 : {:10}차원'. format(array1.ndim, array2.ndim))"
   ]
  },
  {
   "cell_type": "markdown",
   "id": "1ab39efa",
   "metadata": {},
   "source": [
    "# ndarray 데이터타입(.dtype, .astype())"
   ]
  },
  {
   "cell_type": "markdown",
   "id": "b9e5d1fc",
   "metadata": {},
   "source": [
    "dtype - ndarray 내의 데이터타입\n",
    "\n",
    "만일 다른 데이터 유형이 섞여있는 리스트를 ndarray로 변경하면 데이터 크기가 더 큰 데이터 타입으로 형변환을 일괄적용"
   ]
  },
  {
   "cell_type": "code",
   "execution_count": 23,
   "id": "da0dadbf",
   "metadata": {},
   "outputs": [
    {
     "name": "stdout",
     "output_type": "stream",
     "text": [
      "<class 'list'>\n"
     ]
    }
   ],
   "source": [
    "list1 = [1,2,3]\n",
    "print(type(list1))"
   ]
  },
  {
   "cell_type": "code",
   "execution_count": 24,
   "id": "3eb3b83e",
   "metadata": {},
   "outputs": [
    {
     "name": "stdout",
     "output_type": "stream",
     "text": [
      "<class 'numpy.ndarray'>\n"
     ]
    }
   ],
   "source": [
    "array1 = np.array(list1)\n",
    "print(type(array1))"
   ]
  },
  {
   "cell_type": "code",
   "execution_count": 25,
   "id": "4a571b56",
   "metadata": {},
   "outputs": [
    {
     "name": "stdout",
     "output_type": "stream",
     "text": [
      "[1 2 3] int32\n"
     ]
    }
   ],
   "source": [
    "print(array1, array1.dtype)"
   ]
  },
  {
   "cell_type": "code",
   "execution_count": 32,
   "id": "1a888dff",
   "metadata": {},
   "outputs": [
    {
     "name": "stdout",
     "output_type": "stream",
     "text": [
      "<class 'numpy.ndarray'>\n",
      "['1' '2' 'test'] <U11\n",
      "[1. 2. 3.] float64\n"
     ]
    }
   ],
   "source": [
    "list2 = [1,2,'test']       # string\n",
    "array2 = np.array(list2)\n",
    "print(type(array2))\n",
    "print(array2, array2.dtype)\n",
    "\n",
    "list3 = [1,2,3.0]          # float\n",
    "array3 = np.array(list3)\n",
    "print(array3, array3.dtype)"
   ]
  },
  {
   "cell_type": "code",
   "execution_count": 34,
   "id": "e489a1df",
   "metadata": {},
   "outputs": [
    {
     "name": "stdout",
     "output_type": "stream",
     "text": [
      "[1. 2. 3.] float64\n",
      "[1 2 3] int32\n"
     ]
    }
   ],
   "source": [
    "array_int = np.array([1,2,3])\n",
    "array_float = array_int.astype('float64')  # astype 데이터프레임타입 바꾸기\n",
    "print(array_float, array_float.dtype)\n",
    "\n",
    "array_int1 = array_float.astype('int32')\n",
    "print(array_int1, array_int1.dtype)"
   ]
  },
  {
   "cell_type": "markdown",
   "id": "6211b18f",
   "metadata": {},
   "source": [
    "# ndarray 편리하게 생성 - arange, zeros, ones"
   ]
  },
  {
   "cell_type": "code",
   "execution_count": 5,
   "id": "8ffd1393",
   "metadata": {},
   "outputs": [
    {
     "name": "stdout",
     "output_type": "stream",
     "text": [
      "[0 1 2 3 4 5 6 7 8 9]\n",
      "int32 (10,)\n"
     ]
    }
   ],
   "source": [
    "sequence_array = np.arange(10)\n",
    "print(sequence_array)\n",
    "print(sequence_array.dtype, sequence_array.shape)  # dtype 가장 큰 데이터"
   ]
  },
  {
   "cell_type": "code",
   "execution_count": 6,
   "id": "54273b9d",
   "metadata": {},
   "outputs": [
    {
     "name": "stdout",
     "output_type": "stream",
     "text": [
      "[[0 0]\n",
      " [0 0]\n",
      " [0 0]]\n",
      "int32 (3, 2)\n"
     ]
    }
   ],
   "source": [
    "zero_array = np.zeros((3,2), dtype = 'int32')\n",
    "print(zero_array)\n",
    "print(zero_array.dtype, zero_array.shape)"
   ]
  },
  {
   "cell_type": "code",
   "execution_count": 8,
   "id": "6b923c3f",
   "metadata": {},
   "outputs": [
    {
     "name": "stdout",
     "output_type": "stream",
     "text": [
      "[[1. 1.]\n",
      " [1. 1.]\n",
      " [1. 1.]]\n",
      "float64 (3, 2)\n"
     ]
    }
   ],
   "source": [
    "one_array = np.ones((3,2))\n",
    "print(one_array)\n",
    "print(one_array.dtype, one_array.shape)  # float"
   ]
  },
  {
   "cell_type": "markdown",
   "id": "b54f5919",
   "metadata": {},
   "source": [
    "# reshape_ndarray 차원&크기 변경 "
   ]
  },
  {
   "cell_type": "code",
   "execution_count": 9,
   "id": "df16144a",
   "metadata": {},
   "outputs": [
    {
     "name": "stdout",
     "output_type": "stream",
     "text": [
      "array1:\n",
      " [0 1 2 3 4 5 6 7 8 9]\n"
     ]
    }
   ],
   "source": [
    "array1 = np.arange(10)\n",
    "print('array1:\\n', array1)"
   ]
  },
  {
   "cell_type": "code",
   "execution_count": 15,
   "id": "524ffe5b",
   "metadata": {},
   "outputs": [
    {
     "name": "stdout",
     "output_type": "stream",
     "text": [
      "array2:\n",
      " [[0 1 2 3 4]\n",
      " [5 6 7 8 9]]\n"
     ]
    }
   ],
   "source": [
    "array2 = array1.reshape(2,5)  # 사이즈 벗어나면 error\n",
    "print('array2:\\n', array2)"
   ]
  },
  {
   "cell_type": "code",
   "execution_count": 16,
   "id": "dbb38d26",
   "metadata": {},
   "outputs": [
    {
     "name": "stdout",
     "output_type": "stream",
     "text": [
      "array3:\n",
      " [[0 1]\n",
      " [2 3]\n",
      " [4 5]\n",
      " [6 7]\n",
      " [8 9]]\n"
     ]
    }
   ],
   "source": [
    "array3 = array1.reshape(5,2)\n",
    "print('array3:\\n', array3)"
   ]
  },
  {
   "cell_type": "markdown",
   "id": "601eb697",
   "metadata": {},
   "source": [
    "-1 인자 적용 -> 원래 ndarray와 호환되는!! 새 shape 변환(사이즈 불가능하면 error)"
   ]
  },
  {
   "cell_type": "code",
   "execution_count": 23,
   "id": "da71e705",
   "metadata": {},
   "outputs": [
    {
     "name": "stdout",
     "output_type": "stream",
     "text": [
      "[[0 1 2 3 4]\n",
      " [5 6 7 8 9]]\n",
      "array2 shape: (2, 5)\n",
      "[[0 1]\n",
      " [2 3]\n",
      " [4 5]\n",
      " [6 7]\n",
      " [8 9]]\n"
     ]
    }
   ],
   "source": [
    "array1 = np.arange(10)\n",
    "array2 = array1.reshape(-1,5)\n",
    "print(array2)\n",
    "print('array2 shape:', array2.shape)\n",
    "\n",
    "array3 = array1.reshape(5,-1)\n",
    "print(array3)"
   ]
  },
  {
   "cell_type": "markdown",
   "id": "36b77684",
   "metadata": {},
   "source": [
    ".reshape(-1,1) 형태 자주 사용됨"
   ]
  },
  {
   "cell_type": "code",
   "execution_count": 34,
   "id": "a71107c1",
   "metadata": {},
   "outputs": [
    {
     "name": "stdout",
     "output_type": "stream",
     "text": [
      "array3d:\n",
      " [[[0, 1], [2, 3]], [[4, 5], [6, 7]]]\n",
      "<class 'list'>\n"
     ]
    }
   ],
   "source": [
    "array1 = np.arange(8)\n",
    "array3d = array1.reshape(2,2,2)\n",
    "#print(array3d)\n",
    "print('array3d:\\n', array3d.tolist())\n",
    "\n",
    "print(type(array3d.tolist()))\n",
    "# tolist method는 array를 python의 list로 바꿔줌. array의 차원을 그대로 유지"
   ]
  },
  {
   "cell_type": "code",
   "execution_count": 45,
   "id": "e187f28b",
   "metadata": {},
   "outputs": [
    {
     "name": "stdout",
     "output_type": "stream",
     "text": [
      "array5 : \n",
      " [[0]\n",
      " [1]\n",
      " [2]\n",
      " [3]\n",
      " [4]\n",
      " [5]\n",
      " [6]\n",
      " [7]]\n",
      "array5 : \n",
      " [[0], [1], [2], [3], [4], [5], [6], [7]]\n",
      "(8, 1)\n"
     ]
    }
   ],
   "source": [
    "array5 = array3d.reshape(-1,1)  #3d -> '2d'\n",
    "print('array5 : \\n', array5)\n",
    "print('array5 : \\n', array5.tolist())\n",
    "print(array5.shape)"
   ]
  },
  {
   "cell_type": "code",
   "execution_count": 44,
   "id": "33651f4d",
   "metadata": {},
   "outputs": [
    {
     "name": "stdout",
     "output_type": "stream",
     "text": [
      "array6 : \n",
      " [[0]\n",
      " [1]\n",
      " [2]\n",
      " [3]\n",
      " [4]\n",
      " [5]\n",
      " [6]\n",
      " [7]]\n",
      "array6 : \n",
      " [[0], [1], [2], [3], [4], [5], [6], [7]]\n"
     ]
    }
   ],
   "source": [
    "array6 = array1.reshape(-1,1)  # 1d -> 2d\n",
    "print('array6 : \\n', array6)\n",
    "print('array6 : \\n', array6.tolist())"
   ]
  }
 ],
 "metadata": {
  "kernelspec": {
   "display_name": "Python 3 (ipykernel)",
   "language": "python",
   "name": "python3"
  },
  "language_info": {
   "codemirror_mode": {
    "name": "ipython",
    "version": 3
   },
   "file_extension": ".py",
   "mimetype": "text/x-python",
   "name": "python",
   "nbconvert_exporter": "python",
   "pygments_lexer": "ipython3",
   "version": "3.9.16"
  }
 },
 "nbformat": 4,
 "nbformat_minor": 5
}
